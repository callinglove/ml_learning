{
 "cells": [
  {
   "cell_type": "markdown",
   "metadata": {},
   "source": [
    "##  数据标准化(Standardization)和归一化(Normalization)\n",
    "\n",
    "数据的标准化是将数据按比例缩放，使之落入一个小的特定区间。在某些比较和评价的指标处理中经常会用到，去除数据的单位限制，将其转化为无量纲的纯数值，便于不同单位或量级的指标能够进行比较和加权。\n",
    "\n",
    "其中最典型的就是数据的归一化处理，即将数据统一映射到[0,1]区间上，常见的数据归一化的方法有：\n",
    "\n",
    "- min-max标准化\n",
    "- log函数转换\n",
    "- atan函数转换\n",
    "- z-score标准化\n",
    "- z-score改进版"
   ]
  },
  {
   "cell_type": "markdown",
   "metadata": {},
   "source": [
    "### min-max标准化\n",
    "\n",
    "\n",
    "这种方法也叫离差标准化, 对原始数据进行线性变化, 使数据落在[$new_{min}$,$new_{max}$]之间, 具体的转化函数为:\n",
    "$$x' = \\frac{x - X_{min}}{X_{max} - X_{min}} \\left(new_{max} - new_{min}\\right) + new_{min}$$\n",
    "其中$X_{max}$为当前样本数据中, 该属性的最大值, $X_{min}$为最小值. \n",
    "归一化使数据落在[0-1]之间:\n",
    "$$x' = \\frac{x - X_{min}}{X_{max} - X_{min}}$$\n",
    "这种方法处理速度快, 但是, 当有新的数据加入时, $X_{max}$和$X_{min}$发生变化, 需要重新归一化.\n",
    "\n"
   ]
  },
  {
   "cell_type": "markdown",
   "metadata": {},
   "source": [
    "### log函数转换\n",
    "\n",
    "通过以10为底的log函数转换的方法同样可以实现归一下，具体方法如下：\n",
    "\n",
    "$$x' = \\frac{\\log_{10}(x)}{\\log_{10}(max)} $$\n",
    "\n",
    "看了下网上很多介绍都是x*=log10(x)，其实是有问题的，这个结果并非一定落到[0,1]区间上，应该还要除以log10(max)，max为样本数据最大值，并且所有的数据都要大于等于1。\n",
    "\n",
    "### arctan函数转换　"
   ]
  },
  {
   "cell_type": "code",
   "execution_count": 40,
   "metadata": {},
   "outputs": [
    {
     "data": {
      "image/png": "[encoded data removed]",
      "text/plain": [
       "<Figure size 432x288 with 1 Axes>"
      ]
     },
     "metadata": {},
     "output_type": "display_data"
    }
   ],
   "source": [
    "%matplotlib inline\n",
    "import matplotlib.pyplot as plt\n",
    "import numpy as np\n",
    "\n",
    "fig = plt.figure()\n",
    "ax = fig.add_subplot(1, 1, 1)\n",
    "\n",
    "x = np.linspace(-10, 10)\n",
    "ax.plot(x, np.arctan(x), color = 'red', linewidth=2, label = r'$\\arctan(x)$')  \n",
    "\n",
    "ax.set_yticks([-np.pi/2, np.pi/2])\n",
    "ax.set_yticklabels([r'$-\\frac{\\pi}{2}$', r'$\\frac{\\pi}{2}$'])\n",
    "\n",
    "ax.spines['right'].set_visible(False)\n",
    "ax.spines['top'].set_color('none')\n",
    "ax.xaxis.set_ticks_position('bottom')\n",
    "ax.spines['bottom'].set_position(('data',0))\n",
    "ax.yaxis.set_ticks_position('left')\n",
    "ax.spines['left'].set_position(('data',0))\n",
    "\n",
    "ax.grid(b=True,which='major',axis='y')  #显示网格线  \n",
    "\n",
    "plt.axis('tight')\n",
    "plt.show()"
   ]
  },
  {
   "cell_type": "markdown",
   "metadata": {},
   "source": [
    "用反正切函数也可以实现数据的归一化：\n",
    "\n",
    "$$x' = \\frac{\\arctan(x) * 2}{\\pi}$$\n",
    "\n",
    "使用这个方法需要注意的是如果想映射的区间为[0,1]，则数据都应该大于等于0，小于0的数据将被映射到[-1,0]区间上。\n",
    "而并非所有数据标准化的结果都映射到[0,1]区间上，其中最常见的标准化方法就是Z标准化，也是SPSS中最为常用的标准化方法：\n",
    "\n",
    "### z-score 标准化(zero-mean normalization)\n",
    "\n",
    "也叫标准差标准化，经过处理的数据符合标准正态分布，即均值为0，标准差为1，其转化函数为：\n",
    "$$x' = \\frac{x - \\mu}{\\sigma}$$\n",
    "其中$\\mu$为所有样本数据的均值，$\\sigma$为所有样本数据的标准差。"
   ]
  },
  {
   "cell_type": "markdown",
   "metadata": {},
   "source": [
    "## 参考\n",
    "\n",
    "- [数据标准化](http://blog.csdn.net/lpxuan151009/article/details/6697743)"
   ]
  }
 ],
 "metadata": {
  "kernelspec": {
   "display_name": "Python 3",
   "language": "python",
   "name": "python3"
  },
  "language_info": {
   "codemirror_mode": {
    "name": "ipython",
    "version": 3
   },
   "file_extension": ".py",
   "mimetype": "text/x-python",
   "name": "python",
   "nbconvert_exporter": "python",
   "pygments_lexer": "ipython3",
   "version": "3.6.4"
  }
 },
 "nbformat": 4,
 "nbformat_minor": 2
}
