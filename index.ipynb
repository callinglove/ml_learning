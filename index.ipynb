{
 "cells": [
  {
   "cell_type": "markdown",
   "metadata": {},
   "source": [
    "## machine learning\n",
    "\n",
    "关于机器学习过程中的资料汇总以及知识点的总结"
   ]
  },
  {
   "cell_type": "markdown",
   "metadata": {},
   "source": [
    "## 知识点总结\n",
    "\n",
    "- [随机分布函数](notebook/distribution.ipynb)\n",
    "- [激活函数](notebook/activation.ipynb)\n",
    "- [数据标准化](notebook/normalization.ipynb)"
   ]
  },
  {
   "cell_type": "markdown",
   "metadata": {},
   "source": [
    "## 资料汇总\n",
    "\n",
    "- [李航《统计学习方法》学习笔记](https://github.com/anch3or/ml)\n"
   ]
  },
  {
   "cell_type": "markdown",
   "metadata": {},
   "source": [
    "## 常用工具网站\n",
    "\n",
    "- [英文电子书下载网站](http://b-ok.org/)\n",
    "    - The Elements of Statistical Learning: Data Mining, Inference, and Prediction, Second Edition(大名鼎鼎的ESL)\n",
    "    - [知乎:在数据分析、挖掘方面，有哪些好书值得推荐](https://www.zhihu.com/question/20757000)\n",
    "- jupyter notebook在线浏览 https://nbviewer.jupyter.org/"
   ]
  }
 ],
 "metadata": {
  "kernelspec": {
   "display_name": "Python 3",
   "language": "python",
   "name": "python3"
  },
  "language_info": {
   "codemirror_mode": {
    "name": "ipython",
    "version": 3
   },
   "file_extension": ".py",
   "mimetype": "text/x-python",
   "name": "python",
   "nbconvert_exporter": "python",
   "pygments_lexer": "ipython3",
   "version": "3.6.4"
  }
 },
 "nbformat": 4,
 "nbformat_minor": 2
}
